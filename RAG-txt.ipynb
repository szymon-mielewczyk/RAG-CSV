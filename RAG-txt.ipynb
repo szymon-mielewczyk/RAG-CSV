{
 "cells": [
  {
   "cell_type": "code",
   "execution_count": null,
   "metadata": {},
   "outputs": [],
   "source": [
    "import os\n",
    "import keys # File with API keys\n",
    "from langchain_openai import ChatOpenAI, OpenAIEmbeddings\n",
    "from langchain_core.vectorstores import InMemoryVectorStore\n",
    "from langchain import hub\n",
    "from langchain_core.documents import Document\n",
    "from langchain_text_splitters import RecursiveCharacterTextSplitter\n",
    "from langgraph.graph import START, StateGraph\n",
    "from typing_extensions import List, TypedDict\n",
    "from typing import Literal\n",
    "from typing_extensions import Annotated\n",
    "from langchain_core.prompts import PromptTemplate"
   ]
  },
  {
   "cell_type": "code",
   "execution_count": null,
   "metadata": {},
   "outputs": [],
   "source": [
    "LOAD = True # load embeddings\n",
    "SAVE = False # Save vector store\n",
    "\n",
    "# set OpenAi key\n",
    "os.environ[\"OPENAI_API_KEY\"] = keys.OPENAI_API_KEY\n",
    "\n",
    "# choose OpenAi model\n",
    "llm = ChatOpenAI(model=\"gpt-4o-mini\")\n",
    "\n",
    "# choose OpenAi embeddings\n",
    "embeddings = OpenAIEmbeddings(model=\"text-embedding-3-large\")\n",
    "\n",
    "# enable vector store\n",
    "vector_store = InMemoryVectorStore(embeddings)\n",
    "\n",
    "# Enable langsmith tracking\n",
    "os.environ[\"LANGSMITH_TRACING\"] = \"true\"\n",
    "\n",
    "# Set langsmith key\n",
    "os.environ[\"LANGSMITH_API_KEY\"] = keys.LANGSMITH_API_KEY"
   ]
  },
  {
   "cell_type": "code",
   "execution_count": null,
   "metadata": {},
   "outputs": [],
   "source": [
    "# Custom prompt\n",
    "template = \"\"\"Use the following pieces of context to answer the question at the end.\n",
    "If you don't know the answer, just say that you don't know, don't try to make up an answer.\n",
    "Use three sentences maximum and keep the answer as concise as possible.\n",
    "Always say \"thanks for asking!\" at the end of the answer.\n",
    "\n",
    "{context}\n",
    "\n",
    "Question: {question}\n",
    "\n",
    "Helpful Answer:\"\"\"\n",
    "custom_rag_prompt = PromptTemplate.from_template(template)"
   ]
  },
  {
   "cell_type": "code",
   "execution_count": null,
   "metadata": {},
   "outputs": [],
   "source": [
    "class Search(TypedDict):\n",
    "    \"\"\"Search query.\"\"\"\n",
    "\n",
    "    query: Annotated[str, ..., \"Search query to run.\"]\n",
    "    section: Annotated[\n",
    "        Literal[\"beginning\", \"middle\", \"end\"],\n",
    "        ...,\n",
    "        \"Section to query.\",\n",
    "    ]"
   ]
  },
  {
   "cell_type": "code",
   "execution_count": null,
   "metadata": {},
   "outputs": [],
   "source": [
    "# Load txt data\n",
    "with open(\"GroceryDataset.txt\", encoding=\"utf8\") as f:\n",
    "    text = f.read()\n",
    "\n",
    "#Split text\n",
    "text_splitter = RecursiveCharacterTextSplitter(chunk_size=1000, chunk_overlap=200)\n",
    "\n",
    "# Create document from data\n",
    "all_splits = text_splitter.create_documents([text])\n",
    "\n",
    "# Divide text into sections\n",
    "total_documents = len(all_splits)\n",
    "third = total_documents // 3\n",
    "\n",
    "for i, document in enumerate(all_splits):\n",
    "    if i < third:\n",
    "        document.metadata[\"section\"] = \"beginning\"\n",
    "    elif i < 2 * third:\n",
    "        document.metadata[\"section\"] = \"middle\"\n",
    "    else:\n",
    "        document.metadata[\"section\"] = \"end\"\n",
    "\n",
    "all_splits[0].metadata\n",
    "\n",
    "# Enable vector store\n",
    "vector_store = InMemoryVectorStore(embeddings)\n",
    "\n",
    "# Index chunks\n",
    "if LOAD:\n",
    "    # load vector store\n",
    "    vector_store.load('vector_store_query_analisys.pkl', embeddings)\n",
    "else:\n",
    "    # Create vector store with OpenAi model, create costs from model usage ~ 400k tokens\n",
    "    _ = vector_store.add_documents(documents=all_splits)\n",
    "\n",
    "# Define prompt for question-answering\n",
    "prompt = hub.pull(\"rlm/rag-prompt\")\n",
    "\n",
    "# Define state for application\n",
    "class State(TypedDict):\n",
    "    question: str\n",
    "    query: Search\n",
    "    context: List[Document]\n",
    "    answer: str\n",
    "\n",
    "# Define application steps\n",
    "def analyze_query(state: State):\n",
    "    structured_llm = llm.with_structured_output(Search)\n",
    "    query = structured_llm.invoke(state[\"question\"])\n",
    "    return {\"query\": query}\n",
    "\n",
    "def retrieve(state: State):\n",
    "    query = state[\"query\"]\n",
    "    retrieved_docs = vector_store.similarity_search(\n",
    "        query[\"query\"],\n",
    "        filter=lambda doc: doc.metadata.get(\"section\") == query[\"section\"],\n",
    "    )\n",
    "    return {\"context\": retrieved_docs}\n",
    "\n",
    "def generate(state: State):\n",
    "    docs_content = \"\\n\\n\".join(doc.page_content for doc in state[\"context\"])\n",
    "    messages = prompt.invoke({\"question\": state[\"question\"], \"context\": docs_content})\n",
    "    response = llm.invoke(messages)\n",
    "    return {\"answer\": response.content}\n",
    "\n",
    "\n",
    "# Compile application and test\n",
    "graph_builder = StateGraph(State).add_sequence([analyze_query, retrieve, generate])\n",
    "graph_builder.add_edge(START, \"analyze_query\")\n",
    "graph = graph_builder.compile()"
   ]
  },
  {
   "cell_type": "code",
   "execution_count": null,
   "metadata": {},
   "outputs": [],
   "source": [
    "# Save vector store\n",
    "if SAVE:\n",
    "    vector_store.dump('vector_store_from_CSVLoader.pkl') # save vector store to pkl"
   ]
  },
  {
   "cell_type": "code",
   "execution_count": null,
   "metadata": {},
   "outputs": [
    {
     "name": "stdout",
     "output_type": "stream",
     "text": [
      "For your party, consider these five snacks: Snyder's Mini Pretzels, Chex Mix Traditional Flavor, Pirates Booty Natural Aged White Cheddar, Ritz Bits Cheese Sandwich Crackers, and Cheez-It Crackers. These options provide a mix of savory, cheesy, and crunchy flavors that guests will enjoy. They are also conveniently packaged for easy serving.\n"
     ]
    }
   ],
   "source": [
    "# Test question and response\n",
    "response = graph.invoke({\"question\": \"I have a party soon, what are the best 5 snacks i can buy?\"})\n",
    "print(response[\"answer\"])"
   ]
  },
  {
   "cell_type": "code",
   "execution_count": null,
   "metadata": {},
   "outputs": [
    {
     "name": "stdout",
     "output_type": "stream",
     "text": [
      "You can consider ready-to-eat options like French-style prosciutto, smoked chicken breast, and andouille sausage for quick meals. Additionally, heritage pork applewood smoked ham and charcuterie selections can make for impressive party dishes. These items are convenient and perfect for entertaining guests.\n"
     ]
    }
   ],
   "source": [
    "# Test question and response\n",
    "response = graph.invoke({\"question\": \"I have a party soon, what are the best 5 quick to prepare meals i can buy?\"})\n",
    "print(response[\"answer\"])"
   ]
  },
  {
   "cell_type": "code",
   "execution_count": null,
   "metadata": {},
   "outputs": [
    {
     "data": {
      "image/png": "[encoded data removed]",
      "text/plain": [
       "<IPython.core.display.Image object>"
      ]
     },
     "metadata": {},
     "output_type": "display_data"
    }
   ],
   "source": [
    "from IPython.display import Image, display\n",
    "\n",
    "# Display created workflow\n",
    "display(Image(graph.get_graph().draw_mermaid_png()))"
   ]
  },
  {
   "cell_type": "code",
   "execution_count": null,
   "metadata": {},
   "outputs": [
    {
     "name": "stdout",
     "output_type": "stream",
     "text": [
      "{'analyze_query': {'query': {'query': 'best party snacks', 'section': 'beginning'}}}\n",
      "\n",
      "----------------\n",
      "\n",
      "{'retrieve': {'context': [Document(id='f6ea51b4-bfa6-4e13-bd45-7d02fdc9ee77', metadata={'section': 'beginning'}, page_content='Deli,$59.99 ,No Discount,Rated 3.9 out of 5 stars based on 151 reviews.,\"Fratelli Beretta Snack Pack, 2.5 oz, 10-pack\",$,\"10/ 2.5oz ON-THE-GO Snack Packs\\nItalian Style Small Plate with 15g of Protein\\nIncludes Uncured Prosciutto, Fontina and Crackers\",\"Perfectly balanced, the prosciutto aged just right and produced to perfection - All natural with no added nitrates or nitrites. Mount Olive Italian Style Snacks, up to 15 grams of protein is sure to get you through your day. Mount Olive Italian Style Snacks, the ideal upscale snack for any occasion. The Italian Style Small Plate is a convenient option at mealtime or with a glass of wine to unwind. Grab a small plate and bring the taste of Italy right to your home, on the run and anywhere in between. Enjoy, La Dolce Vita10/ 2.5oz ON-THE-GO Snack PacksItalian Style Small Plate with 15g of ProteinIncludes Uncured Aged Prosciutto made with only Pork & Salt, Fontina Cheese and Crackers\"'), Document(id='2c92c2f2-8d04-4e76-966c-792b3f892d03', metadata={'section': 'beginning'}, page_content=\"in style – whether it's a movie night, a seasonal gathering, or a personal snack, Popcornopolis' Pumpkin Spice Popcorn is the perfect companion. Hurry, it's a limited-time flavor that you won't want to miss. Fall for the flavor today!   Product Details:   Certified Gluten-Free\"), Document(id='7d6f9978-243f-4e35-946f-b55204c561fc', metadata={'section': 'beginning'}, page_content='M&M\\'s Plain\\nReese\\'s Peanut Butter Cups\\nSnickers\\nKit Kat\\nTwix\\nMilky Way\\nAlmond Joy\\n100 Grand\\nYork Peppermint Patties\\nTypes and amounts of candies will vary and this bag may not contain all varieties listed.\"\\nCandy,$10.99 ,After $4 OFF,,\"Mott\\'s Fruit Snacks, Assorted Fruit, 0.8 oz, 90-count\",$,Gluten Free   No Artificial Flavors   No Colors from Artificial Flavors   No Gelatin,Made with Real Fruit & Veggie Juice90-count0.8 oz.'), Document(id='843970f5-642a-40a9-87ee-6d08b6f5834f', metadata={'section': 'beginning'}, page_content=\"on family road trips to enjoy chocolate candy treats anywhere. Don't stop at just unwrapping and enjoying these candies, add them to your favorite dessert and baking recipes. Simply mix in candy bar pieces in place of chocolate chips or as an extra delicious addition to any recipe. Minis sized candy also makes great ice cream toppings. Craft the perfect sundae with SNICKERS, TWIX, MILKY WAY Original, MILKY WAY Midnight and 3 MUSKETEERS chocolate candy pieces.   Minis Chocolate Favorites\")]}}\n",
      "\n",
      "----------------\n",
      "\n",
      "{'generate': {'answer': \"For your party, consider the Fratelli Beretta Snack Pack, which includes prosciutto, Fontina cheese, and crackers. Additionally, popcorn, especially flavors like Pumpkin Spice, can be a delightful treat. Don't forget classic candies like M&M's, Reese's Peanut Butter Cups, and Snickers for a sweet touch!\"}}\n",
      "\n",
      "----------------\n",
      "\n"
     ]
    }
   ],
   "source": [
    "# Show RAG steps\n",
    "for step in graph.stream(\n",
    "    {\"question\": \"I have a party soon, what are the best 5 snacks i can buy?\"},\n",
    "    stream_mode=\"updates\",\n",
    "):\n",
    "    print(f\"{step}\\n\\n----------------\\n\")"
   ]
  }
 ],
 "metadata": {
  "kernelspec": {
   "display_name": ".venv",
   "language": "python",
   "name": "python3"
  },
  "language_info": {
   "codemirror_mode": {
    "name": "ipython",
    "version": 3
   },
   "file_extension": ".py",
   "mimetype": "text/x-python",
   "name": "python",
   "nbconvert_exporter": "python",
   "pygments_lexer": "ipython3",
   "version": "3.11.5"
  }
 },
 "nbformat": 4,
 "nbformat_minor": 2
}
